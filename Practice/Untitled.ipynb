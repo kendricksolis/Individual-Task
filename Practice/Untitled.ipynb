{
 "cells": [
  {
   "cell_type": "code",
   "execution_count": 6,
   "id": "90d3d5e5-8fec-4702-9068-fe92953eda79",
   "metadata": {},
   "outputs": [
    {
     "name": "stdout",
     "output_type": "stream",
     "text": [
      "Exotic Extras,Beef Chicharon,(x3)\n",
      "HealthyKid 3+,Nutrional Milk,(x4)\n",
      "Candy City,Orange Beans,(x1)\n"
     ]
    }
   ],
   "source": [
    "x=  \"Exotic Extras,Beef Chicharon,(x3);HealthyKid 3+,Nutrional Milk,(x4);Candy City,Orange Beans,(x1)\"\n",
    "\n",
    "print(x.replace(\";\",\"\\n\"))"
   ]
  },
  {
   "cell_type": "code",
   "execution_count": 1,
   "id": "9550e169-1497-40e9-b217-f2a244f6d52d",
   "metadata": {},
   "outputs": [
    {
     "name": "stdout",
     "output_type": "stream",
     "text": [
      "[{'address': 'USNS Wagner\\nFPO AE 00917', 'birthdate': '1926/03/11', 'mail': 'watsonbrenda@gmail.com', 'name': 'Jennifer Campbell', 'sex': 'F', 'username': 'veronicawells', 'transaction_items': 'Exotic Extras,Beef Chicharon,(x4)', 'transaction_value': 5196, 'transaction_date': '2022/01/12'}, {'address': 'USCGC Benson\\nFPO AP 48794', 'birthdate': '2016/07/08', 'mail': 'moorelisa@gmail.com', 'name': 'Melissa Kim', 'sex': 'F', 'username': 'cgilbert', 'transaction_items': 'Exotic Extras,Beef Chicharon,(x3);HealthyKid 3+,Nutrional Milk,(x4);Candy City,Orange Beans,(x1)', 'transaction_value': 12056, 'transaction_date': '2022/01/12'}, {'address': 'USCGC Benson\\nFPO AP 48794', 'birthdate': '2016/07/08', 'mail': 'moorelisa@gmail.com', 'name': 'Melissa Kim', 'sex': 'F', 'username': 'cgilbert', 'transaction_items': 'HealthyKid 3+,Gummy Vitamins,(x3);HealthyKid 3+,Yummy Vegetables,(x2)', 'transaction_value': 5500, 'transaction_date': '2022/01/08'}, {'address': 'USCGC Benson\\nFPO AP 48794', 'birthdate': '2016/07/08', 'mail': 'moorelisa@gmail.com', 'name': 'Melissa Kim', 'sex': 'F', 'username': 'cgilbert', 'transaction_items': 'HealthyKid 3+,Yummy Vegetables,(x1)', 'transaction_value': 500, 'transaction_date': '2022/01/10'}]\n"
     ]
    }
   ],
   "source": [
    "transaction = [\n",
    "    {\n",
    "        \"address\": \"USNS Wagner\\nFPO AE 00917\",\n",
    "        \"birthdate\": \"1926/03/11\",\n",
    "        \"mail\": \"watsonbrenda@gmail.com\",\n",
    "        \"name\": \"Jennifer Campbell\",\n",
    "        \"sex\": \"F\",\n",
    "        \"username\": \"veronicawells\",\n",
    "        \"transaction_items\": \"Exotic Extras,Beef Chicharon,(x4)\",\n",
    "        \"transaction_value\": 5196,\n",
    "        \"transaction_date\": \"2022/01/12\"\n",
    "    },\n",
    "    {\n",
    "        \"address\": \"USCGC Benson\\nFPO AP 48794\",\n",
    "        \"birthdate\": \"2016/07/08\",\n",
    "        \"mail\": \"moorelisa@gmail.com\",\n",
    "        \"name\": \"Melissa Kim\",\n",
    "        \"sex\": \"F\",\n",
    "        \"username\": \"cgilbert\",\n",
    "        \"transaction_items\": \"Exotic Extras,Beef Chicharon,(x3);HealthyKid 3+,Nutrional Milk,(x4);Candy City,Orange Beans,(x1)\",\n",
    "        \"transaction_value\": 12056,\n",
    "        \"transaction_date\": \"2022/01/12\"\n",
    "    },\n",
    "    {\n",
    "        \"address\": \"USCGC Benson\\nFPO AP 48794\",\n",
    "        \"birthdate\": \"2016/07/08\",\n",
    "        \"mail\": \"moorelisa@gmail.com\",\n",
    "        \"name\": \"Melissa Kim\",\n",
    "        \"sex\": \"F\",\n",
    "        \"username\": \"cgilbert\",\n",
    "        \"transaction_items\": \"HealthyKid 3+,Gummy Vitamins,(x3);HealthyKid 3+,Yummy Vegetables,(x2)\",\n",
    "        \"transaction_value\": 5500,\n",
    "        \"transaction_date\": \"2022/01/08\"\n",
    "    },\n",
    "    {\n",
    "        \"address\": \"USCGC Benson\\nFPO AP 48794\",\n",
    "        \"birthdate\": \"2016/07/08\",\n",
    "        \"mail\": \"moorelisa@gmail.com\",\n",
    "        \"name\": \"Melissa Kim\",\n",
    "        \"sex\": \"F\",\n",
    "        \"username\": \"cgilbert\",\n",
    "        \"transaction_items\": \"HealthyKid 3+,Yummy Vegetables,(x1)\",\n",
    "        \"transaction_value\": 500,\n",
    "        \"transaction_date\": \"2022/01/10\"\n",
    "    }\n",
    "]"
   ]
  },
  {
   "cell_type": "code",
   "execution_count": 7,
   "id": "a77aeab4-5cf2-48ae-a723-e3de61d44681",
   "metadata": {},
   "outputs": [
    {
     "ename": "SyntaxError",
     "evalue": "invalid syntax (250651243.py, line 3)",
     "output_type": "error",
     "traceback": [
      "\u001b[1;36m  Input \u001b[1;32mIn [7]\u001b[1;36m\u001b[0m\n\u001b[1;33m    a= [x for xy in enumerate route_map]\u001b[0m\n\u001b[1;37m                              ^\u001b[0m\n\u001b[1;31mSyntaxError\u001b[0m\u001b[1;31m:\u001b[0m invalid syntax\n"
     ]
    }
   ],
   "source": [
    "route_map= {\n",
    "     (\"upd\",\"admu\"):{\n",
    "         \"travel_time_mins\":10\n",
    "     },\n",
    "     (\"admu\",\"dlsu\"):{\n",
    "         \"travel_time_mins\":35\n",
    "     },\n",
    "     (\"dlsu\",\"upd\"):{\n",
    "         \"travel_time_mins\":55\n",
    "     }\n",
    "}\n",
    "\n",
    "def eta(first_stop, second_stop, route_map):\n",
    "    destination= route_map[second_stop]['travel_time_mins']\n",
    "    location= social_graph[first_stop]['travel_time_mins']\n",
    "    \n",
    "    a for ab in enumerate(destination)\n",
    "    \n",
    "    \n",
    "    \n",
    "    '''ETA. \n",
    "    25 points.\n",
    "    A shuttle van service is tasked to travel along a predefined circlar route.\n",
    "    This route is divided into several legs between stops.\n",
    "    The route is one-way only, and it is fully connected to itself.\n",
    "    This function returns how long it will take the shuttle to arrive at a stop\n",
    "    after leaving another stop.\n",
    "    Please see \"mod-4-ipa-1-sample-data.py\" for sample data. The route map will\n",
    "    adhere to the same pattern. The route map may contain more legs and more stops,\n",
    "    but it will always be one-way and fully enclosed.\n",
    "    Parameters\n",
    "    ----------\n",
    "    first_stop: str\n",
    "        the stop that the shuttle will leave\n",
    "    second_stop: str\n",
    "        the stop that the shuttle will arrive at\n",
    "    route_map: dict\n",
    "        the data describing the routes\n",
    "    Returns\n",
    "    -------\n",
    "    int\n",
    "        the time it will take the shuttle to travel from first_stop to second_stop\n",
    "    '''\n",
    "    # Replace `pass` with your code. \n",
    "    # Stay within the function. Only use the parameters as input. The function should return your answer.\n",
    "    pass\n",
    " eta(first_stop, second_stop, {\n",
    "     (\"upd\",\"admu\"):{\n",
    "         \"travel_time_mins\":10\n",
    "     },\n",
    "     (\"admu\",\"dlsu\"):{\n",
    "         \"travel_time_mins\":35\n",
    "     },\n",
    "     (\"dlsu\",\"upd\"):{\n",
    "         \"travel_time_mins\":55\n",
    "     }\n",
    "})"
   ]
  },
  {
   "cell_type": "code",
   "execution_count": 8,
   "id": "aeffb3d7-b085-4b2c-81ac-b365318915c9",
   "metadata": {},
   "outputs": [
    {
     "data": {
      "text/plain": [
       "65"
      ]
     },
     "execution_count": 8,
     "metadata": {},
     "output_type": "execute_result"
    }
   ],
   "source": [
    "route_map= legs = {\n",
    "     (\"upd\",\"admu\"):{\n",
    "         \"travel_time_mins\":10\n",
    "     },\n",
    "     (\"admu\",\"dlsu\"):{\n",
    "         \"travel_time_mins\":35\n",
    "     },\n",
    "     (\"dlsu\",\"upd\"):{\n",
    "         \"travel_time_mins\":55\n",
    "     }\n",
    "}\n",
    "\n",
    "def eta(first_stop,second_stop,route_map):\n",
    "    destination_routes = route_map.keys()\n",
    "    a = [x for x in destination_routes]\n",
    "    b = [y for y,z in a]\n",
    "    c = [z for y,z in a]\n",
    "    recurring_mins = 0\n",
    "    for d in b:\n",
    "        e = b.index(d)\n",
    "        if d == first_stop:\n",
    "            while(True):\n",
    "                if c[e] != second_stop:\n",
    "                    stop_mins = int(legs[b[e],c[e]][\"travel_time_mins\"])\n",
    "                    recurring_mins += stop_mins\n",
    "                    if e == len(b) - 1:\n",
    "                        e = 0\n",
    "                    elif e < len(b):\n",
    "                        e += 1\n",
    "                    continue\n",
    "                elif c[e] == second_stop:\n",
    "                    first_stop_mins = int(legs[b[e],c[e]]['travel_time_mins'])\n",
    "                    return recurring_mins + first_stop_mins\n",
    "                \n",
    "eta(\"dlsu\",\"admu\", route_map)"
   ]
  },
  {
   "cell_type": "code",
   "execution_count": 9,
   "id": "c9c15015-a362-475a-913b-7ae131789a50",
   "metadata": {},
   "outputs": [
    {
     "ename": "NameError",
     "evalue": "name 'legs' is not defined",
     "output_type": "error",
     "traceback": [
      "\u001b[1;31m---------------------------------------------------------------------------\u001b[0m",
      "\u001b[1;31mNameError\u001b[0m                                 Traceback (most recent call last)",
      "Input \u001b[1;32mIn [9]\u001b[0m, in \u001b[0;36m<cell line: 24>\u001b[1;34m()\u001b[0m\n\u001b[0;32m     21\u001b[0m                     first_stop_mins \u001b[38;5;241m=\u001b[39m \u001b[38;5;28mint\u001b[39m(legs[m[p],n[p]][\u001b[38;5;124m'\u001b[39m\u001b[38;5;124mtravel_time_mins\u001b[39m\u001b[38;5;124m'\u001b[39m])\n\u001b[0;32m     22\u001b[0m                     \u001b[38;5;28;01mreturn\u001b[39;00m recurring_mins \u001b[38;5;241m+\u001b[39m first_stop_mins\n\u001b[1;32m---> 24\u001b[0m eta(\u001b[43mlegs\u001b[49m,\u001b[38;5;124m\"\u001b[39m\u001b[38;5;124mdlsu\u001b[39m\u001b[38;5;124m\"\u001b[39m,\u001b[38;5;124m\"\u001b[39m\u001b[38;5;124madmu\u001b[39m\u001b[38;5;124m\"\u001b[39m)\n",
      "\u001b[1;31mNameError\u001b[0m: name 'legs' is not defined"
     ]
    }
   ],
   "source": [
    "def eta(legs,source,destination):\n",
    "    destination_routes = legs.keys()\n",
    "    j = [x for x,y in enumerate(destination_routes)]\n",
    "    l = [y for x,y in enumerate(destination_routes)]\n",
    "    m = [y for y,z in l]\n",
    "    n = [z for y,z in l]\n",
    "    recurring_mins = 0\n",
    "    for o in m:\n",
    "        p = m.index(o)\n",
    "        if o == source:\n",
    "            while(True):\n",
    "                if n[p] != destination:\n",
    "                    stop_mins = int(legs[m[p],n[p]]['travel_time_mins'])\n",
    "                    recurring_mins += stop_mins\n",
    "                    if p == len(m) - 1:\n",
    "                        p = 0\n",
    "                    elif p < len(m):\n",
    "                        p += 1\n",
    "                    continue\n",
    "                elif n[p] == destination:\n",
    "                    first_stop_mins = int(legs[m[p],n[p]]['travel_time_mins'])\n",
    "                    return recurring_mins + first_stop_mins\n",
    "                \n",
    "eta(legs,\"dlsu\",\"admu\")"
   ]
  },
  {
   "cell_type": "code",
   "execution_count": 63,
   "id": "f0d30266-7d67-4902-b1d8-0aa0ee931b8a",
   "metadata": {},
   "outputs": [
    {
     "data": {
      "text/plain": [
       "'no relationship'"
      ]
     },
     "execution_count": 63,
     "metadata": {},
     "output_type": "execute_result"
    }
   ],
   "source": [
    "social_graph={\n",
    "    \"@bongolpoc\":{\"first_name\":\"Joselito\",\n",
    "                  \"last_name\":\"Olpoc\",\n",
    "                  \"following\":[\n",
    "                  ]\n",
    "    },\n",
    "    \"@joaquin\":  {\"first_name\":\"Joaquin\",\n",
    "                  \"last_name\":\"Gonzales\",\n",
    "                  \"following\":[\n",
    "                      \"@chums\",\"@jobenilagan\"\n",
    "                  ]\n",
    "    },\n",
    "    \"@chums\" : {\"first_name\":\"Matthew\",\n",
    "                \"last_name\":\"Uy\",\n",
    "                \"following\":[\n",
    "                    \"@bongolpoc\",\"@miketan\",\"@rudyang\",\"@joeilagan\"\n",
    "                ]\n",
    "    },\n",
    "    \"@jobenilagan\":{\"first_name\":\"Joben\",\n",
    "                   \"last_name\":\"Ilagan\",\n",
    "                   \"following\":[\n",
    "                    \"@eeebeee\",\"@joeilagan\",\"@chums\",\"@joaquin\"\n",
    "                   ]\n",
    "    },\n",
    "    \"@joeilagan\":{\"first_name\":\"Joe\",\n",
    "                  \"last_name\":\"Ilagan\",\n",
    "                  \"following\":[\n",
    "                    \"@eeebeee\",\"@jobenilagan\",\"@chums\"\n",
    "                  ]\n",
    "    },\n",
    "    \"@eeebeee\":  {\"first_name\":\"Elizabeth\",\n",
    "                  \"last_name\":\"Ilagan\",\n",
    "                  \"following\":[\n",
    "                    \"@jobenilagan\",\"@joeilagan\"\n",
    "                  ]\n",
    "    },\n",
    "}\n",
    "\n",
    "def relationship_status(from_member, to_member, social_graph):\n",
    "    from_member_following= social_graph[from_member][\"following\"]\n",
    "    to_member_following= social_graph[to_member][\"following\"]\n",
    "    for a,b in enumerate(from_member_following):\n",
    "        if b == to_member:\n",
    "            for c,d in enumerate(to_member_following):\n",
    "                 if c < len(to_member_following):\n",
    "                    if d == from_member:\n",
    "                        return \"friends\"\n",
    "            return \"follower\"\n",
    "        else:\n",
    "            continue\n",
    "\n",
    "    for c,d in enumerate(to_member_following):\n",
    "        if c== from_member:\n",
    "            return \"followed by\"\n",
    "        else:\n",
    "            continue\n",
    "    else:\n",
    "        return \"no relationship\"          \n",
    "\n",
    "                \n",
    "relationship_status(\"@bongolpoc\",\"@joeilagan\",social_graph)"
   ]
  },
  {
   "cell_type": "code",
   "execution_count": 13,
   "id": "d4283294-d4f1-4f6d-ac41-2cf0f0e0371a",
   "metadata": {},
   "outputs": [
    {
     "data": {
      "text/plain": [
       "'NO WINNER'"
      ]
     },
     "execution_count": 13,
     "metadata": {},
     "output_type": "execute_result"
    }
   ],
   "source": [
    "board7 = [\n",
    "['X','X','O',''],\n",
    "['O','X','O','O'],\n",
    "['X','','','O'],\n",
    "['O','X','','']\n",
    "]\n",
    "\n",
    "\n",
    "def tic_tac_toe(board):\n",
    "    \n",
    "    horizontal_check = [x for x in board]\n",
    "    vertical_check = [x for x in zip(*board)]\n",
    "    updown_diagonal_check = [board[i][i] for i in range(len(board))]\n",
    "    downup_diagonal_check = [board[len(board)-1-i][i] for i in range(len(board))]\n",
    "    \n",
    "    for a,b in enumerate(horizontal_check):\n",
    "        if a < len(horizontal_check):\n",
    "            if all([c==\"X\" for c in b]):\n",
    "                return \"X\"\n",
    "            elif all([c==\"O\" for c in b]):\n",
    "                return \"O\"\n",
    "            else:\n",
    "                continue\n",
    "        else:\n",
    "            break\n",
    "                      \n",
    "    for e,f in enumerate(vertical_check):\n",
    "        if e < len(vertical_check):\n",
    "            if all([c==\"X\" for c in f]):\n",
    "                return \"X\"\n",
    "            elif all([c==\"O\" for c in f]):\n",
    "                return \"O\"\n",
    "            else:\n",
    "                continue\n",
    "        else:\n",
    "            break\n",
    "                      \n",
    "    if all([c==\"X\" for c in updown_diagonal_check]):\n",
    "          return \"X\"\n",
    "    elif all([c==\"O\" for c in updown_diagonal_check]):\n",
    "          return \"O\"\n",
    "    elif all([c==\"X\" for c in downup_diagonal_check]):\n",
    "          return \"X\"\n",
    "    elif all([c==\"O\" for c in downup_diagonal_check]):\n",
    "          return \"O\"\n",
    "    else:\n",
    "          return \"NO WINNER\"\n",
    "tic_tac_toe(board7)"
   ]
  },
  {
   "cell_type": "code",
   "execution_count": null,
   "id": "7260a502-f5ff-45c5-9f76-666552bcce15",
   "metadata": {},
   "outputs": [],
   "source": [
    "transaction"
   ]
  }
 ],
 "metadata": {
  "kernelspec": {
   "display_name": "Python 3 (ipykernel)",
   "language": "python",
   "name": "python3"
  },
  "language_info": {
   "codemirror_mode": {
    "name": "ipython",
    "version": 3
   },
   "file_extension": ".py",
   "mimetype": "text/x-python",
   "name": "python",
   "nbconvert_exporter": "python",
   "pygments_lexer": "ipython3",
   "version": "3.9.12"
  }
 },
 "nbformat": 4,
 "nbformat_minor": 5
}

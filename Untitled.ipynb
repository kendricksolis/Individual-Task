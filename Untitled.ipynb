{
 "cells": [
  {
   "cell_type": "code",
   "execution_count": 33,
   "id": "f11c0635-0fc6-42b9-8d20-47eb58750a24",
   "metadata": {},
   "outputs": [
    {
     "ename": "NameError",
     "evalue": "name 'message' is not defined",
     "output_type": "error",
     "traceback": [
      "\u001b[1;31m---------------------------------------------------------------------------\u001b[0m",
      "\u001b[1;31mNameError\u001b[0m                                 Traceback (most recent call last)",
      "Input \u001b[1;32mIn [33]\u001b[0m, in \u001b[0;36m<cell line: 1>\u001b[1;34m()\u001b[0m\n\u001b[1;32m----> 1\u001b[0m \u001b[43mmessage\u001b[49m [x]\n",
      "\u001b[1;31mNameError\u001b[0m: name 'message' is not defined"
     ]
    }
   ],
   "source": [
    "def tic_tac_toe(board):\n",
    "    from_member_following= social_graph[from_member][\"following\"]\n",
    "    to_member_following= social_graph[to_member][\"following\"]\n",
    "                                \n",
    "    for a,b in enumerate(from_member_following):\n",
    "        if a < len(from_member_following):\n",
    "            if b == to_member:\n",
    "                for c,d in enumerate(to_member_following):\n",
    "                    if c < len(to_member_following):\n",
    "                        if d == from_member:\n",
    "                            return \"friends\"\n",
    "                        else:\n",
    "                            continue\n",
    "                return \"follower\"\n",
    "            else:\n",
    "                continue\n",
    "        else:\n",
    "            break\n",
    "    for c,d in enumerate(to_member_following):\n",
    "        if c < len(to_member_following):\n",
    "            if c== from_member:\n",
    "                return \"followed by\"\n",
    "            else:\n",
    "                continue\n",
    "        else:\n",
    "            break\n",
    "    for a,b in enumerate (from_member_following):\n",
    "        if b != to_member:\n",
    "            if a< len(from_member_following):\n",
    "                    for c,d in enumerate(to_member_following):\n",
    "                        if c < len(to_member_following):\n",
    "                            if d != from_member:\n",
    "                                    return \"no relationship\"\n",
    "     \n",
    "    for a,b in enumerate (from_member_following):\n",
    "        if b == ():\n",
    "            if a< len(from_member_following):\n",
    "                    for c,d in enumerate(to_member_following):\n",
    "                        if c < len(to_member_following):\n",
    "                            if d == ():\n",
    "                                    return \"no relationship\"\n",
    "    '''\n",
    "    # Replace `pass` with your code. \n",
    "    # Stay within the function. Only use the parameters as input. The function should return your answer.\n",
    "    pass"
   ]
  },
  {
   "cell_type": "code",
   "execution_count": 52,
   "id": "a77aeab4-5cf2-48ae-a723-e3de61d44681",
   "metadata": {},
   "outputs": [
    {
     "name": "stdout",
     "output_type": "stream",
     "text": [
      "[('cappucino', 120, 'good'), ('espresso', 140, 'fair')]\n"
     ]
    }
   ],
   "source": [
    "newproducts = (\"cappucino\", \"espresso\")\n",
    "newprices =(120,140)\n",
    "newratings=(\"good\",\"fair\")\n",
    "print(list(zip(*(newproducts,newprices,newratings))))"
   ]
  },
  {
   "cell_type": "code",
   "execution_count": 40,
   "id": "c9c15015-a362-475a-913b-7ae131789a50",
   "metadata": {},
   "outputs": [
    {
     "data": {
      "text/plain": [
       "'INFORMATION_AGE_'"
      ]
     },
     "execution_count": 40,
     "metadata": {},
     "output_type": "execute_result"
    }
   ],
   "source": [
    "def scytale_decipher(message, shift):\n",
    "    message = str(message)\n",
    "    shift= int(shift)\n",
    "    decipher = \"\"\n",
    "    \n",
    "    while (len(decipher)<len(message)):\n",
    "        decpiher += \"\"\n",
    "    \n",
    "    for a,b in enumerate(message):\n",
    "        index=  (i // shift) + (len(message) // shift) * (i % shift)\n",
    "        for c,d in enumerate(decipher):\n",
    "            decipher= decipher[:index]+m+decipher[index+1:]\n",
    "            return decipher\n",
    "        \n",
    "scytale_cipher(\"IRIANMOGFANEOT_\", 4)"
   ]
  },
  {
   "cell_type": "code",
   "execution_count": 43,
   "id": "aeffb3d7-b085-4b2c-81ac-b365318915c9",
   "metadata": {},
   "outputs": [
    {
     "data": {
      "text/plain": [
       "'K A'"
      ]
     },
     "execution_count": 43,
     "metadata": {},
     "output_type": "execute_result"
    }
   ],
   "source": [
    "def vigenere_cipher(message, key):\n",
    "    key_length = len(key)\n",
    "    key_int=[ord(i) for i in key]\n",
    "    message_int=[ord(i) for i in message]\n",
    "    encrypt = \"\"\n",
    "    for i in range(len(message_int)):\n",
    "        if message[i] == \" \":\n",
    "            encrypt += \" \"\n",
    "        else:\n",
    "            encryptvalue=(message_int[i]+key_int[i%key_length]) % 26\n",
    "            encrypt += chr(encryptvalue+65)\n",
    "    return encrypt\n",
    "vigenere_cipher(\"A C\",\"KEY\")"
   ]
  },
  {
   "cell_type": "code",
   "execution_count": 31,
   "id": "f0d30266-7d67-4902-b1d8-0aa0ee931b8a",
   "metadata": {},
   "outputs": [],
   "source": [
    "def relationship_status(from_member, to_member, social_graph):\n",
    "    from_member_following= social_graph[from_member][\"following\"]\n",
    "    to_member_following= social_graph[to_member][\"following\"]\n",
    "                                \n",
    "    for a,b in enumerate(from_member_following):\n",
    "        if a < len(from_member_following):\n",
    "            if b == to_member:\n",
    "                for c,d in enumerate(to_member_following):\n",
    "                    if c < len(to_member_following):\n",
    "                        if d == from_member:\n",
    "                            return \"friends\"\n",
    "                        else:\n",
    "                            continue\n",
    "                return \"follower\"\n",
    "            else:\n",
    "                continue\n",
    "        else:\n",
    "            break\n",
    "    for c,d in enumerate(to_member_following):\n",
    "        if c < len(to_member_following):\n",
    "            if c== from_member:\n",
    "                return \"followed by\"\n",
    "            else:\n",
    "                continue\n",
    "        else:\n",
    "            break\n",
    "    for a,b in enumerate (from_member_following):\n",
    "        if b != to_member:\n",
    "            if a< len(from_member_following):\n",
    "                    for c,d in enumerate(to_member_following):\n",
    "                        if c < len(to_member_following):\n",
    "                            if d != from_member:\n",
    "                                    return \"no relationship\"\n",
    "     \n",
    "    for a,b in enumerate (from_member_following):\n",
    "        if b == ():\n",
    "            if a< len(from_member_following):\n",
    "                    for c,d in enumerate(to_member_following):\n",
    "                        if c < len(to_member_following):\n",
    "                            if d == ():\n",
    "                                    return \"no relationship\"\n",
    "                            \n",
    "relationship_status(\"@bongolpoc\",\"@joaquin\",  {\n",
    "    \"@bongolpoc\":{\"first_name\":\"Joselito\",\n",
    "                  \"last_name\":\"Olpoc\",\n",
    "                  \"following\":[\n",
    "                  ]\n",
    "    },\n",
    "    \"@joaquin\":  {\"first_name\":\"Joaquin\",\n",
    "                  \"last_name\":\"Gonzales\",\n",
    "                  \"following\":[\n",
    "                      \"@chums\",\"@jobenilagan\"\n",
    "                  ]\n",
    "    },\n",
    "    \"@chums\" : {\"first_name\":\"Matthew\",\n",
    "                \"last_name\":\"Uy\",\n",
    "                \"following\":[\n",
    "                    \"@bongolpoc\",\"@miketan\",\"@rudyang\",\"@joeilagan\"\n",
    "                ]\n",
    "    },\n",
    "    \"@jobenilagan\":{\"first_name\":\"Joben\",\n",
    "                   \"last_name\":\"Ilagan\",\n",
    "                   \"following\":[\n",
    "                    \"@eeebeee\",\"@joeilagan\",\"@chums\",\"@joaquin\"\n",
    "                   ]\n",
    "    },\n",
    "    \"@joeilagan\":{\"first_name\":\"Joe\",\n",
    "                  \"last_name\":\"Ilagan\",\n",
    "                  \"following\":[\n",
    "                    \"@eeebeee\",\"@jobenilagan\",\"@chums\"\n",
    "                  ]\n",
    "    },\n",
    "    \"@eeebeee\":  {\"first_name\":\"Elizabeth\",\n",
    "                  \"last_name\":\"Ilagan\",\n",
    "                  \"following\":[\n",
    "                    \"@jobenilagan\",\"@joeilagan\"\n",
    "                  ]\n",
    "    },\n",
    "})"
   ]
  },
  {
   "cell_type": "code",
   "execution_count": null,
   "id": "d4283294-d4f1-4f6d-ac41-2cf0f0e0371a",
   "metadata": {},
   "outputs": [],
   "source": []
  }
 ],
 "metadata": {
  "kernelspec": {
   "display_name": "Python 3 (ipykernel)",
   "language": "python",
   "name": "python3"
  },
  "language_info": {
   "codemirror_mode": {
    "name": "ipython",
    "version": 3
   },
   "file_extension": ".py",
   "mimetype": "text/x-python",
   "name": "python",
   "nbconvert_exporter": "python",
   "pygments_lexer": "ipython3",
   "version": "3.9.12"
  }
 },
 "nbformat": 4,
 "nbformat_minor": 5
}
